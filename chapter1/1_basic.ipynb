{
 "cells": [
  {
   "cell_type": "markdown",
   "id": "8ca1d20f-f871-42c9-b436-a14e353aa2e1",
   "metadata": {},
   "source": [
    "# pythonの基本操作"
   ]
  },
  {
   "cell_type": "markdown",
   "id": "66389fd1-4577-44a1-ad94-91cd857a9480",
   "metadata": {},
   "source": [
    "## ライブラリの読み込み"
   ]
  },
  {
   "cell_type": "code",
   "execution_count": null,
   "id": "f8ae5d6e-bfe1-4893-ac3e-b5a92d2e0970",
   "metadata": {},
   "outputs": [],
   "source": [
    "import numpy as np\n",
    "import matplotlib.pyplot as plt\n",
    "plt.rcParams['figure.dpi'] = 150"
   ]
  },
  {
   "cell_type": "markdown",
   "id": "32e36acb-487d-4c7f-b5d4-f41b1e2ba58a",
   "metadata": {},
   "source": [
    "## 文字列・データの出力"
   ]
  },
  {
   "cell_type": "code",
   "execution_count": null,
   "id": "01d95c4d-f1a5-483f-a015-812d3c408f65",
   "metadata": {},
   "outputs": [],
   "source": [
    "# 変数に値を入れる（型指定は自動）\n",
    "message = 'Hello, world!'\n",
    "data = 1\n",
    "\n",
    "# 変数に入っているものを確認するときは，とにかくprint\n",
    "print(message)\n",
    "print(data)\n",
    "print(' a \\n b \\n c') # \\nは改行コード\n",
    "\n",
    "# 文字列と数値を組み合わせたいときは\n",
    "print('value of data is', data)\n",
    "print(f'value of data is {data}')"
   ]
  },
  {
   "cell_type": "markdown",
   "id": "f7fc0a47-dfd0-44c9-8b26-85c4478df314",
   "metadata": {
    "tags": []
   },
   "source": [
    "## 四則演算"
   ]
  },
  {
   "cell_type": "code",
   "execution_count": null,
   "id": "4cc45019-07ff-4831-8d03-84d3b6667e5b",
   "metadata": {},
   "outputs": [],
   "source": [
    "a = 1\n",
    "b = 2\n",
    "\n",
    "c = a + b\n",
    "\n",
    "# 四則演算\n",
    "print('a + b =', c)\n",
    "print('a - b =', a - b)\n",
    "print('a * b =', a*b)\n",
    "print('a / b =', a/b)\n",
    "\n",
    "# インクリメント\n",
    "d = 1\n",
    "a += 1\n",
    "b -= d\n",
    "\n",
    "print(a, b)"
   ]
  },
  {
   "cell_type": "markdown",
   "id": "c99e8122-1905-4fac-a1c5-a3f0b48043c6",
   "metadata": {},
   "source": [
    "## リストと追加"
   ]
  },
  {
   "cell_type": "code",
   "execution_count": null,
   "id": "59ddc544-41ad-47b3-90f5-b018ed30b1df",
   "metadata": {},
   "outputs": [],
   "source": [
    "numbers = ['one', 'two', 3, 4, 'five'] # []はリスト．要素は文字列・数字が混ざってもよい\n",
    "\n",
    "print(numbers)\n",
    "\n",
    "# 要素の追加\n",
    "numbers.append(6)\n",
    "numbers.append('seven')\n",
    "\n",
    "print(numbers)\n",
    "\n",
    "# 要素の呼び出し\n",
    "print(numbers[0], numbers[2] + numbers[3])"
   ]
  },
  {
   "cell_type": "markdown",
   "id": "5671bbe6-fdbb-42e8-b49c-22d0fba0a7d4",
   "metadata": {
    "tags": []
   },
   "source": [
    "## forループ"
   ]
  },
  {
   "cell_type": "code",
   "execution_count": null,
   "id": "43d57f4a-a611-4fff-b764-80b49965e1a7",
   "metadata": {},
   "outputs": [],
   "source": [
    "for i in range(10):\n",
    "    print(i)\n",
    "    \n",
    "for number in numbers:\n",
    "    print(number)"
   ]
  },
  {
   "cell_type": "markdown",
   "id": "862fb62a-a203-4af7-a1c1-c2bf05080571",
   "metadata": {},
   "source": [
    "## 関数の作成・利用"
   ]
  },
  {
   "cell_type": "code",
   "execution_count": null,
   "id": "da6c0095-36d5-44d5-96c1-3ed9ebd8c048",
   "metadata": {},
   "outputs": [],
   "source": [
    "def TestFunction(x, y):\n",
    "    return x + 2*y\n",
    "\n",
    "print(TestFunction(1, 1))\n",
    "print(TestFunction(0, 1))\n",
    "print(TestFunction(1, 0))"
   ]
  },
  {
   "cell_type": "markdown",
   "id": "bc3799c5-6d2d-4efd-b7a2-67f45514e178",
   "metadata": {
    "tags": []
   },
   "source": [
    "## numpyを用いた行列ベクトル演算"
   ]
  },
  {
   "cell_type": "code",
   "execution_count": null,
   "id": "8c0e59fc-0517-44a0-a111-19bf0f84222f",
   "metadata": {},
   "outputs": [],
   "source": [
    "A = np.array([[1, 2], [3, 4]]) # 2x2の行列\n",
    "b = np.array([[1, 2]]).T # 2成分のベクトル\n",
    "\n",
    "print(f'A =\\n {A}\\n')\n",
    "print(f'A.T =\\n {A.T}\\n') #転置\n",
    "print(f'b =\\n {b}\\n')\n",
    "print(f'Aの成分 = {A[0][0]}, {A[0][1]}, {A[1][0]}, {A[1][1]}\\n')\n",
    "\n",
    "print(f'A@b = \\n{A@b}\\n')\n",
    "print(f'A@A = \\n{A@A}\\n')"
   ]
  },
  {
   "cell_type": "code",
   "execution_count": null,
   "id": "51aea4e2-2a8c-4ddc-a3b0-1251d724788d",
   "metadata": {},
   "outputs": [],
   "source": [
    "va = np.array([1, 2, 3])\n",
    "vb = np.array([0, 2, 4])\n",
    "\n",
    "print(\"内積 = \", np.dot(va, vb))\n",
    "print(\"アダマール積 = \", va*vb) # 成分毎の積\n",
    "print(f\"テンソル積 =\\n {np.outer(va, vb)}\")"
   ]
  },
  {
   "cell_type": "code",
   "execution_count": null,
   "id": "af9f6753-6941-4fd7-a6e2-fcf52da932ae",
   "metadata": {},
   "outputs": [],
   "source": [
    "# 大きい行列サイズでも可\n",
    "size = 5\n",
    "\n",
    "C = np.random.normal(0.0, 5.0, (size, size))\n",
    "d = np.random.normal(0.0, 5.0, (size, 1))\n",
    "\n",
    "print(f'C = \\n{C}\\n')\n",
    "print(f'd = \\n{d}\\n')\n",
    "print(f'C@d = \\n{C@d}\\n')"
   ]
  },
  {
   "cell_type": "markdown",
   "id": "58fe5501-8c0f-46cf-8b57-ff1c3e2ff959",
   "metadata": {},
   "source": [
    "## matplotlibを用いた図の作成（シグモイド関数）"
   ]
  },
  {
   "cell_type": "code",
   "execution_count": null,
   "id": "4a0edea6-e016-478d-a0db-ef4f96555091",
   "metadata": {},
   "outputs": [],
   "source": [
    "def Sigmoid(x):\n",
    "    return 1.0/(1.0 + np.exp(-x))\n",
    "\n",
    "x = np.arange(-5.0, 5.0, 0.1)\n",
    "y = Sigmoid(x) \n",
    "\n",
    "fig, ax = plt.subplots()\n",
    "ax.plot(x, y)\n",
    "ax.set_xlabel('x')\n",
    "ax.set_ylabel('y')\n",
    "plt.show()"
   ]
  },
  {
   "cell_type": "code",
   "execution_count": null,
   "id": "d8738896-d4bb-444a-9c0d-78bf5e33884f",
   "metadata": {},
   "outputs": [],
   "source": [
    "fig, ax = plt.subplots(1,3, figsize=(8, 2))\n",
    "\n",
    "ax[0].plot(x, y)\n",
    "ax[0].set_xlabel('x')\n",
    "ax[0].set_ylabel('y')\n",
    "ax[0].set_title('Sigmoid')\n",
    "\n",
    "ax[1].plot(x, x**2)\n",
    "ax[1].set_xlabel('x')\n",
    "ax[1].set_ylabel('y')\n",
    "ax[1].set_title('square')\n",
    "\n",
    "ax[2].plot(x, x**3)\n",
    "ax[2].set_xlabel('x')\n",
    "ax[2].set_ylabel('y')\n",
    "ax[2].set_title('cubic')\n",
    "\n",
    "fig.tight_layout()\n",
    "plt.show()"
   ]
  },
  {
   "cell_type": "markdown",
   "id": "64223143-0c78-4dd6-af09-bccdc352269a",
   "metadata": {},
   "source": [
    "#### Q1.1 「2023」「8」「29」の和を計算せよ"
   ]
  },
  {
   "cell_type": "code",
   "execution_count": null,
   "id": "5cfeb922-0873-41c6-94d1-e7fc189becf1",
   "metadata": {},
   "outputs": [],
   "source": [
    "# A1.1 以下に回答\n",
    "\n"
   ]
  },
  {
   "cell_type": "markdown",
   "id": "d115e0ca-4868-40be-b5e4-6024356cce19",
   "metadata": {},
   "source": [
    "#### Q1.2 以下の２つのベクトルaとbについて，その総和・二乗和がどちらが大きいかを計算せよ\n",
    "\n",
    "$$\n",
    "a = \\begin{Bmatrix}\n",
    "2 \\\\ 5 \\\\ 8 \\\\ -2 \\\\ -3\n",
    "\\end{Bmatrix}, \\;\\;\\;\n",
    "b = \\begin{Bmatrix}\n",
    "3 \\\\ 9 \\\\ 1 \\\\ -5 \\\\ -8\n",
    "\\end{Bmatrix}\n",
    "$$\n",
    "\n",
    "ヒント1：ndarrayの総和はnp.sum(a)で求めることができる  \n",
    "ヒント2：二乗和は「各成分の2乗」⇒「総和」．各成分の2乗の方法は上のノートを参照"
   ]
  },
  {
   "cell_type": "code",
   "execution_count": null,
   "id": "da397172-ac13-4107-9304-8969276b5aab",
   "metadata": {},
   "outputs": [],
   "source": [
    "# A1.2 以下に回答\n"
   ]
  },
  {
   "cell_type": "markdown",
   "id": "f26c7d61-2105-43b7-92d2-68042f821056",
   "metadata": {},
   "source": [
    "#### Q1.3 以下の2つの行列について，行列積 $AB$ および$BA$を求めよ\n",
    "\n",
    "$$\n",
    "A = \\begin{bmatrix}\n",
    "1 & 2 \\\\\n",
    "3 & 4\n",
    "\\end{bmatrix}, \\;\\;\\;\n",
    "B = \\begin{bmatrix}\n",
    "5 & 6 \\\\\n",
    "7 & 8\n",
    "\\end{bmatrix}\n",
    "$$"
   ]
  },
  {
   "cell_type": "code",
   "execution_count": null,
   "id": "52fc38ae-8cc0-413d-baae-c03b6b2d1873",
   "metadata": {},
   "outputs": [],
   "source": [
    "# A1.3 以下に回答\n"
   ]
  },
  {
   "cell_type": "markdown",
   "id": "2c8032d4-dbfb-4883-803a-faa4f9791e71",
   "metadata": {},
   "source": [
    "#### Q1.4 以下の行列$A$とベクトル$b$を用い，行列・ベクトル積 $Ab$ を求めよ\n",
    "\n",
    "$$\n",
    "A = \\begin{bmatrix}\n",
    "1 & 2 & 3\\\\\n",
    "4 & 5 & 6\\\\\n",
    "7 & 8 & 9\n",
    "\\end{bmatrix}, \\;\\;\\;\n",
    "b = \\begin{Bmatrix}\n",
    "10 \\\\ \n",
    "11 \\\\\n",
    "12\n",
    "\\end{Bmatrix}\n",
    "$$"
   ]
  },
  {
   "cell_type": "code",
   "execution_count": null,
   "id": "e18f1f43-692d-430d-a60f-82af3d8498d7",
   "metadata": {},
   "outputs": [],
   "source": [
    "# A1.4 以下に回答\n"
   ]
  },
  {
   "cell_type": "code",
   "execution_count": null,
   "id": "68cf28f0-2028-40fb-acd1-ced3106ab334",
   "metadata": {},
   "outputs": [],
   "source": []
  }
 ],
 "metadata": {
  "kernelspec": {
   "display_name": "Python 3 (ipykernel)",
   "language": "python",
   "name": "python3"
  },
  "language_info": {
   "codemirror_mode": {
    "name": "ipython",
    "version": 3
   },
   "file_extension": ".py",
   "mimetype": "text/x-python",
   "name": "python",
   "nbconvert_exporter": "python",
   "pygments_lexer": "ipython3",
   "version": "3.10.11"
  }
 },
 "nbformat": 4,
 "nbformat_minor": 5
}
